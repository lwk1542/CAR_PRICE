{
 "cells": [
  {
   "cell_type": "markdown",
   "metadata": {},
   "source": [
    "# 常见的特征工程：\n",
    "\n",
    "## 异常处理：\n",
    "\n",
    "通过箱线图（或 3-Sigma）分析删除异常值；\n",
    "BOX-COX 转换（处理有偏分布）；\n",
    "长尾截断；\n",
    "## 特征归一化/标准化：\n",
    "\n",
    "标准化（转换为标准正态分布）；\n",
    "归一化（抓换到 [0,1] 区间）；\n",
    "针对幂律分布，可以采用公式： log(1+x1+median) \\log(\\frac{1+x}{1+median})log( \n",
    "1+median\n",
    "1+x\n",
    "​\t\n",
    " )\n",
    "数据分桶：\n",
    "等频分桶；\n",
    "等距分桶；\n",
    "Best-KS 分桶（类似利用基尼指数进行二分类）；\n",
    "卡方分桶；\n",
    "缺失值处理：\n",
    "\n",
    "不处理（针对类似 XGBoost 等树模型）；\n",
    "删除（缺失数据太多）；\n",
    "插值补全，包括均值/中位数/众数/建模预测/多重插补/压缩感知补全/矩阵补全等；\n",
    "分箱，缺失值一个箱；\n",
    "特征构造：\n",
    "\n",
    "构造统计量特征，报告计数、求和、比例、标准差等；\n",
    "时间特征，包括相对时间和绝对时间，节假日，双休日等；\n",
    "地理信息，包括分箱，分布编码等方法；\n",
    "非线性变换，包括 log/ 平方/ 根号等；\n",
    "特征组合，特征交叉；\n",
    "仁者见仁，智者见智。\n",
    "特征筛选\n",
    "\n",
    "过滤式（filter）：先对数据进行特征选择，然后在训练学习器，常见的方法有 Relief/方差选择发/相关系数法/卡方检验法/互信息法；\n",
    "包裹式（wrapper）：直接把最终将要使用的学习器的性能作为特征子集的评价准则，常见方法有 LVM（Las Vegas Wrapper） ；\n",
    "嵌入式（embedding）：结合过滤式和包裹式，学习器训练过程中自动进行了特征选择，常见的有 lasso 回归；\n",
    "降维\n",
    "\n",
    "PCA/ LDA/ ICA；\n",
    "特征选择也是一种降维。\n"
   ]
  },
  {
   "cell_type": "code",
   "execution_count": 1,
   "metadata": {},
   "outputs": [
    {
     "name": "stdout",
     "output_type": "stream",
     "text": [
      "(150000, 31)\n",
      "(50000, 30)\n"
     ]
    }
   ],
   "source": [
    "import pandas as pd\n",
    "import numpy as np\n",
    "import matplotlib\n",
    "import matplotlib.pyplot as plt\n",
    "import seaborn as sns\n",
    "from operator import itemgetter \n",
    "\n",
    "%matplotlib inline\n",
    "\n",
    "train_data = pd.read_csv('used_car_train_20200313.csv', sep=\" \")\n",
    "test_data = pd.read_csv('used_car_testA_20200313.csv', sep=\" \")\n",
    "print(train_data.shape)\n",
    "print(test_data.shape)"
   ]
  },
  {
   "cell_type": "code",
   "execution_count": 2,
   "metadata": {},
   "outputs": [
    {
     "data": {
      "text/plain": [
       "Index(['SaleID', 'name', 'regDate', 'model', 'brand', 'bodyType', 'fuelType',\n",
       "       'gearbox', 'power', 'kilometer', 'notRepairedDamage', 'regionCode',\n",
       "       'seller', 'offerType', 'creatDate', 'price', 'v_0', 'v_1', 'v_2', 'v_3',\n",
       "       'v_4', 'v_5', 'v_6', 'v_7', 'v_8', 'v_9', 'v_10', 'v_11', 'v_12',\n",
       "       'v_13', 'v_14'],\n",
       "      dtype='object')"
      ]
     },
     "execution_count": 2,
     "metadata": {},
     "output_type": "execute_result"
    }
   ],
   "source": [
    "train_data.columns"
   ]
  },
  {
   "cell_type": "code",
   "execution_count": 3,
   "metadata": {},
   "outputs": [
    {
     "name": "stdout",
     "output_type": "stream",
     "text": [
      "Delete numnber is :963\n",
      "Now column number is:149037\n",
      "description of data less than the lower bound is:\n",
      "count    0.0\n",
      "mean     NaN\n",
      "std      NaN\n",
      "min      NaN\n",
      "25%      NaN\n",
      "50%      NaN\n",
      "75%      NaN\n",
      "max      NaN\n",
      "Name: power, dtype: float64\n",
      "description of data larger than the upper bound is:\n",
      "count      963.000000\n",
      "mean       846.836968\n",
      "std       1929.418081\n",
      "min        376.000000\n",
      "25%        400.000000\n",
      "50%        436.000000\n",
      "75%        514.000000\n",
      "max      19312.000000\n",
      "Name: power, dtype: float64\n"
     ]
    },
    {
     "data": {
      "image/png": "[encoded data removed]",
      "text/plain": [
       "<Figure size 720x504 with 2 Axes>"
      ]
     },
     "metadata": {
      "needs_background": "light"
     },
     "output_type": "display_data"
    }
   ],
   "source": [
    "## 删除异常值\n",
    "def outliers_proc(data, col_name, scale=3):\n",
    "    def box_plot_outliers(data_ser, box_scale):\n",
    "        iqr = box_scale * (data_ser.quantile(0.75) - data_ser.quantile(0.25))\n",
    "        val_low = data_ser.quantile(0.25) - iqr\n",
    "        val_up = data_ser.quantile(0.75) + iqr\n",
    "        rule_low = (data_ser < val_low)\n",
    "        rule_up = (data_ser > val_up)\n",
    "        return (rule_low, rule_up), (val_low, val_up)\n",
    "    data_n = data.copy()\n",
    "    data_series = data_n[col_name]\n",
    "    rule, value = box_plot_outliers(data_series, box_scale=scale)\n",
    "    index = np.arange(data_series.shape[0])[rule[0] | rule[1]]\n",
    "    print(\"Delete numnber is :{}\".format(len(index)))\n",
    "    data_n = data_n.drop(index)\n",
    "    data_n.reset_index(drop=True, inplace=True)\n",
    "    print(\"Now column number is:{}\".format(data_n.shape[0]))\n",
    "    index_low = np.arange(data_series.shape[0])[rule[0]]\n",
    "    outliers = data_series.iloc[index_low]\n",
    "    print(\"description of data less than the lower bound is:\")\n",
    "    print(pd.Series(outliers).describe())\n",
    "    index_up = np.arange(data_series.shape[0])[rule[1]]\n",
    "    outliers = data_series.iloc[index_up]\n",
    "    print(\"description of data larger than the upper bound is:\")\n",
    "    print(pd.Series(outliers).describe())\n",
    "    \n",
    "    fig, ax = plt.subplots(1, 2, figsize=(10, 7))\n",
    "    sns.boxplot(y=data[col_name], data=data, palette=\"Set1\", ax=ax[0])\n",
    "    sns.boxplot(y=data_n[col_name], data=data_n,palette=\"Set1\", ax=ax[1])\n",
    "    return data_n\n",
    "train_data = outliers_proc(train_data, 'power', scale=3)"
   ]
  },
  {
   "cell_type": "code",
   "execution_count": 4,
   "metadata": {},
   "outputs": [
    {
     "name": "stderr",
     "output_type": "stream",
     "text": [
      "D:\\Anaconda3\\lib\\site-packages\\ipykernel_launcher.py:4: FutureWarning: Sorting because non-concatenation axis is not aligned. A future version\n",
      "of pandas will change to not sort by default.\n",
      "\n",
      "To accept the future behavior, pass 'sort=False'.\n",
      "\n",
      "To retain the current behavior and silence the warning, pass 'sort=True'.\n",
      "\n",
      "  after removing the cwd from sys.path.\n"
     ]
    },
    {
     "data": {
      "text/html": [
       "<div>\n",
       "<style scoped>\n",
       "    .dataframe tbody tr th:only-of-type {\n",
       "        vertical-align: middle;\n",
       "    }\n",
       "\n",
       "    .dataframe tbody tr th {\n",
       "        vertical-align: top;\n",
       "    }\n",
       "\n",
       "    .dataframe thead th {\n",
       "        text-align: right;\n",
       "    }\n",
       "</style>\n",
       "<table border=\"1\" class=\"dataframe\">\n",
       "  <thead>\n",
       "    <tr style=\"text-align: right;\">\n",
       "      <th></th>\n",
       "      <th>SaleID</th>\n",
       "      <th>bodyType</th>\n",
       "      <th>brand</th>\n",
       "      <th>creatDate</th>\n",
       "      <th>fuelType</th>\n",
       "      <th>gearbox</th>\n",
       "      <th>kilometer</th>\n",
       "      <th>model</th>\n",
       "      <th>name</th>\n",
       "      <th>notRepairedDamage</th>\n",
       "      <th>...</th>\n",
       "      <th>v_13</th>\n",
       "      <th>v_14</th>\n",
       "      <th>v_2</th>\n",
       "      <th>v_3</th>\n",
       "      <th>v_4</th>\n",
       "      <th>v_5</th>\n",
       "      <th>v_6</th>\n",
       "      <th>v_7</th>\n",
       "      <th>v_8</th>\n",
       "      <th>v_9</th>\n",
       "    </tr>\n",
       "  </thead>\n",
       "  <tbody>\n",
       "    <tr>\n",
       "      <th>0</th>\n",
       "      <td>0</td>\n",
       "      <td>1.0</td>\n",
       "      <td>6</td>\n",
       "      <td>20160404</td>\n",
       "      <td>0.0</td>\n",
       "      <td>0.0</td>\n",
       "      <td>12.5</td>\n",
       "      <td>30.0</td>\n",
       "      <td>736</td>\n",
       "      <td>0.0</td>\n",
       "      <td>...</td>\n",
       "      <td>0.795292</td>\n",
       "      <td>0.914762</td>\n",
       "      <td>0.050257</td>\n",
       "      <td>2.159744</td>\n",
       "      <td>1.143786</td>\n",
       "      <td>0.235676</td>\n",
       "      <td>0.101988</td>\n",
       "      <td>0.129549</td>\n",
       "      <td>0.022816</td>\n",
       "      <td>0.097462</td>\n",
       "    </tr>\n",
       "    <tr>\n",
       "      <th>1</th>\n",
       "      <td>1</td>\n",
       "      <td>2.0</td>\n",
       "      <td>1</td>\n",
       "      <td>20160309</td>\n",
       "      <td>0.0</td>\n",
       "      <td>0.0</td>\n",
       "      <td>15.0</td>\n",
       "      <td>40.0</td>\n",
       "      <td>2262</td>\n",
       "      <td>-</td>\n",
       "      <td>...</td>\n",
       "      <td>-1.722674</td>\n",
       "      <td>0.245522</td>\n",
       "      <td>0.137925</td>\n",
       "      <td>1.380657</td>\n",
       "      <td>-1.422165</td>\n",
       "      <td>0.264777</td>\n",
       "      <td>0.121004</td>\n",
       "      <td>0.135731</td>\n",
       "      <td>0.026597</td>\n",
       "      <td>0.020582</td>\n",
       "    </tr>\n",
       "    <tr>\n",
       "      <th>2</th>\n",
       "      <td>2</td>\n",
       "      <td>1.0</td>\n",
       "      <td>15</td>\n",
       "      <td>20160402</td>\n",
       "      <td>0.0</td>\n",
       "      <td>0.0</td>\n",
       "      <td>12.5</td>\n",
       "      <td>115.0</td>\n",
       "      <td>14874</td>\n",
       "      <td>0.0</td>\n",
       "      <td>...</td>\n",
       "      <td>-0.832687</td>\n",
       "      <td>-0.229963</td>\n",
       "      <td>1.319524</td>\n",
       "      <td>-0.998467</td>\n",
       "      <td>-0.996911</td>\n",
       "      <td>0.251410</td>\n",
       "      <td>0.114912</td>\n",
       "      <td>0.165147</td>\n",
       "      <td>0.062173</td>\n",
       "      <td>0.027075</td>\n",
       "    </tr>\n",
       "    <tr>\n",
       "      <th>3</th>\n",
       "      <td>3</td>\n",
       "      <td>0.0</td>\n",
       "      <td>10</td>\n",
       "      <td>20160312</td>\n",
       "      <td>0.0</td>\n",
       "      <td>1.0</td>\n",
       "      <td>15.0</td>\n",
       "      <td>109.0</td>\n",
       "      <td>71865</td>\n",
       "      <td>0.0</td>\n",
       "      <td>...</td>\n",
       "      <td>-2.438353</td>\n",
       "      <td>-0.478699</td>\n",
       "      <td>-0.050616</td>\n",
       "      <td>0.883600</td>\n",
       "      <td>-2.228079</td>\n",
       "      <td>0.274293</td>\n",
       "      <td>0.110300</td>\n",
       "      <td>0.121964</td>\n",
       "      <td>0.033395</td>\n",
       "      <td>0.000000</td>\n",
       "    </tr>\n",
       "    <tr>\n",
       "      <th>4</th>\n",
       "      <td>4</td>\n",
       "      <td>1.0</td>\n",
       "      <td>5</td>\n",
       "      <td>20160313</td>\n",
       "      <td>0.0</td>\n",
       "      <td>0.0</td>\n",
       "      <td>5.0</td>\n",
       "      <td>110.0</td>\n",
       "      <td>111080</td>\n",
       "      <td>0.0</td>\n",
       "      <td>...</td>\n",
       "      <td>2.834518</td>\n",
       "      <td>1.923482</td>\n",
       "      <td>0.572169</td>\n",
       "      <td>-1.571239</td>\n",
       "      <td>2.246088</td>\n",
       "      <td>0.228036</td>\n",
       "      <td>0.073205</td>\n",
       "      <td>0.091880</td>\n",
       "      <td>0.078819</td>\n",
       "      <td>0.121534</td>\n",
       "    </tr>\n",
       "  </tbody>\n",
       "</table>\n",
       "<p>5 rows × 32 columns</p>\n",
       "</div>"
      ],
      "text/plain": [
       "   SaleID  bodyType  brand  creatDate  fuelType  gearbox  kilometer  model  \\\n",
       "0       0       1.0      6   20160404       0.0      0.0       12.5   30.0   \n",
       "1       1       2.0      1   20160309       0.0      0.0       15.0   40.0   \n",
       "2       2       1.0     15   20160402       0.0      0.0       12.5  115.0   \n",
       "3       3       0.0     10   20160312       0.0      1.0       15.0  109.0   \n",
       "4       4       1.0      5   20160313       0.0      0.0        5.0  110.0   \n",
       "\n",
       "     name notRepairedDamage  ...      v_13      v_14       v_2       v_3  \\\n",
       "0     736               0.0  ...  0.795292  0.914762  0.050257  2.159744   \n",
       "1    2262                 -  ... -1.722674  0.245522  0.137925  1.380657   \n",
       "2   14874               0.0  ... -0.832687 -0.229963  1.319524 -0.998467   \n",
       "3   71865               0.0  ... -2.438353 -0.478699 -0.050616  0.883600   \n",
       "4  111080               0.0  ...  2.834518  1.923482  0.572169 -1.571239   \n",
       "\n",
       "        v_4       v_5       v_6       v_7       v_8       v_9  \n",
       "0  1.143786  0.235676  0.101988  0.129549  0.022816  0.097462  \n",
       "1 -1.422165  0.264777  0.121004  0.135731  0.026597  0.020582  \n",
       "2 -0.996911  0.251410  0.114912  0.165147  0.062173  0.027075  \n",
       "3 -2.228079  0.274293  0.110300  0.121964  0.033395  0.000000  \n",
       "4  2.246088  0.228036  0.073205  0.091880  0.078819  0.121534  \n",
       "\n",
       "[5 rows x 32 columns]"
      ]
     },
     "execution_count": 4,
     "metadata": {},
     "output_type": "execute_result"
    }
   ],
   "source": [
    "###特征构造\n",
    "train_data['train'] = 1\n",
    "test_data['train'] = 0\n",
    "data = pd.concat([train_data, test_data], ignore_index=True)\n",
    "data.head()"
   ]
  },
  {
   "cell_type": "code",
   "execution_count": 5,
   "metadata": {},
   "outputs": [
    {
     "name": "stdout",
     "output_type": "stream",
     "text": [
      "<class 'pandas.core.frame.DataFrame'>\n",
      "RangeIndex: 199037 entries, 0 to 199036\n",
      "Data columns (total 32 columns):\n",
      "SaleID               199037 non-null int64\n",
      "bodyType             193130 non-null float64\n",
      "brand                199037 non-null int64\n",
      "creatDate            199037 non-null int64\n",
      "fuelType             187512 non-null float64\n",
      "gearbox              191173 non-null float64\n",
      "kilometer            199037 non-null float64\n",
      "model                199036 non-null float64\n",
      "name                 199037 non-null int64\n",
      "notRepairedDamage    199037 non-null object\n",
      "offerType            199037 non-null int64\n",
      "power                199037 non-null int64\n",
      "price                149037 non-null float64\n",
      "regDate              199037 non-null int64\n",
      "regionCode           199037 non-null int64\n",
      "seller               199037 non-null int64\n",
      "train                199037 non-null int64\n",
      "v_0                  199037 non-null float64\n",
      "v_1                  199037 non-null float64\n",
      "v_10                 199037 non-null float64\n",
      "v_11                 199037 non-null float64\n",
      "v_12                 199037 non-null float64\n",
      "v_13                 199037 non-null float64\n",
      "v_14                 199037 non-null float64\n",
      "v_2                  199037 non-null float64\n",
      "v_3                  199037 non-null float64\n",
      "v_4                  199037 non-null float64\n",
      "v_5                  199037 non-null float64\n",
      "v_6                  199037 non-null float64\n",
      "v_7                  199037 non-null float64\n",
      "v_8                  199037 non-null float64\n",
      "v_9                  199037 non-null float64\n",
      "dtypes: float64(21), int64(10), object(1)\n",
      "memory usage: 48.6+ MB\n"
     ]
    }
   ],
   "source": [
    "data.info()"
   ]
  },
  {
   "cell_type": "code",
   "execution_count": 6,
   "metadata": {},
   "outputs": [],
   "source": [
    "data['used_time'] = (pd.to_datetime(data['creatDate'], format='%Y%m%d', errors='coerce') -\n",
    "                    pd.to_datetime(data['regDate'], format='%Y%m%d', errors='coerce')).dt.days"
   ]
  },
  {
   "cell_type": "code",
   "execution_count": 7,
   "metadata": {},
   "outputs": [
    {
     "data": {
      "text/plain": [
       "15072"
      ]
     },
     "execution_count": 7,
     "metadata": {},
     "output_type": "execute_result"
    }
   ],
   "source": [
    "data['used_time'].isnull().sum()"
   ]
  },
  {
   "cell_type": "code",
   "execution_count": 8,
   "metadata": {},
   "outputs": [
    {
     "data": {
      "text/plain": [
       "Index(['SaleID', 'bodyType', 'brand', 'creatDate', 'fuelType', 'gearbox',\n",
       "       'kilometer', 'model', 'name', 'notRepairedDamage', 'offerType', 'power',\n",
       "       'price', 'regDate', 'regionCode', 'seller', 'train', 'v_0', 'v_1',\n",
       "       'v_10', 'v_11', 'v_12', 'v_13', 'v_14', 'v_2', 'v_3', 'v_4', 'v_5',\n",
       "       'v_6', 'v_7', 'v_8', 'v_9', 'used_time'],\n",
       "      dtype='object')"
      ]
     },
     "execution_count": 8,
     "metadata": {},
     "output_type": "execute_result"
    }
   ],
   "source": [
    "data.columns"
   ]
  },
  {
   "cell_type": "code",
   "execution_count": 9,
   "metadata": {},
   "outputs": [],
   "source": [
    "data['city'] = data['regionCode'].apply(lambda x:str(x)[:-3])\n",
    "data=data"
   ]
  },
  {
   "cell_type": "code",
   "execution_count": 10,
   "metadata": {},
   "outputs": [
    {
     "data": {
      "text/plain": [
       "<pandas.core.groupby.generic.DataFrameGroupBy object at 0x000002AE92C64828>"
      ]
     },
     "execution_count": 10,
     "metadata": {},
     "output_type": "execute_result"
    }
   ],
   "source": [
    "train_gb = train_data.groupby(\"brand\")\n",
    "train_gb"
   ]
  },
  {
   "cell_type": "code",
   "execution_count": 11,
   "metadata": {},
   "outputs": [],
   "source": [
    "all_info = {}\n",
    "for kind, kind_data in train_gb:\n",
    "#     print(kind)\n",
    "#     print(\"++++++\")\n",
    "#     print(kind_data)\n",
    "    info = {}\n",
    "    kind_data = kind_data[kind_data['price'] > 0]\n",
    "    info['brand_amount'] = len(kind_data)\n",
    "    info['brand_price_max'] = kind_data.price.max()\n",
    "    info['brand_price_median'] = kind_data.price.median()\n",
    "    info['brand_price_min'] = kind_data.price.min()\n",
    "    info['brand_price_sum'] = kind_data.price.sum()\n",
    "    info['brand_price_std'] = kind_data.price.std()\n",
    "    info['brand_price_average'] = round(kind_data.price.sum() / (len(kind_data) + 1),2)\n",
    "    all_info[kind] = info\n"
   ]
  },
  {
   "cell_type": "code",
   "execution_count": 12,
   "metadata": {
    "scrolled": true
   },
   "outputs": [
    {
     "data": {
      "text/plain": [
       "{0: {'brand_amount': 31429,\n",
       "  'brand_price_max': 68500,\n",
       "  'brand_price_median': 3199.0,\n",
       "  'brand_price_min': 13,\n",
       "  'brand_price_sum': 173719698,\n",
       "  'brand_price_std': 6261.371627193848,\n",
       "  'brand_price_average': 5527.19},\n",
       " 1: {'brand_amount': 13656,\n",
       "  'brand_price_max': 84000,\n",
       "  'brand_price_median': 6399.0,\n",
       "  'brand_price_min': 15,\n",
       "  'brand_price_sum': 124044603,\n",
       "  'brand_price_std': 8988.865406006897,\n",
       "  'brand_price_average': 9082.86},\n",
       " 2: {'brand_amount': 318,\n",
       "  'brand_price_max': 55800,\n",
       "  'brand_price_median': 7500.0,\n",
       "  'brand_price_min': 35,\n",
       "  'brand_price_sum': 3766241,\n",
       "  'brand_price_std': 10576.224443852676,\n",
       "  'brand_price_average': 11806.4},\n",
       " 3: {'brand_amount': 2461,\n",
       "  'brand_price_max': 37500,\n",
       "  'brand_price_median': 4990.0,\n",
       "  'brand_price_min': 65,\n",
       "  'brand_price_sum': 15954226,\n",
       "  'brand_price_std': 5396.32750326748,\n",
       "  'brand_price_average': 6480.19},\n",
       " 4: {'brand_amount': 16575,\n",
       "  'brand_price_max': 99999,\n",
       "  'brand_price_median': 5999.0,\n",
       "  'brand_price_min': 12,\n",
       "  'brand_price_sum': 138279069,\n",
       "  'brand_price_std': 8089.863294699394,\n",
       "  'brand_price_average': 8342.13},\n",
       " 5: {'brand_amount': 4662,\n",
       "  'brand_price_max': 31500,\n",
       "  'brand_price_median': 2300.0,\n",
       "  'brand_price_min': 20,\n",
       "  'brand_price_sum': 15414322,\n",
       "  'brand_price_std': 3344.689762728696,\n",
       "  'brand_price_average': 3305.67},\n",
       " 6: {'brand_amount': 10193,\n",
       "  'brand_price_max': 35990,\n",
       "  'brand_price_median': 1800.0,\n",
       "  'brand_price_min': 13,\n",
       "  'brand_price_sum': 36457518,\n",
       "  'brand_price_std': 4562.233330501051,\n",
       "  'brand_price_average': 3576.37},\n",
       " 7: {'brand_amount': 2360,\n",
       "  'brand_price_max': 38900,\n",
       "  'brand_price_median': 2600.0,\n",
       "  'brand_price_min': 60,\n",
       "  'brand_price_sum': 9905909,\n",
       "  'brand_price_std': 4752.5841539229505,\n",
       "  'brand_price_average': 4195.64},\n",
       " 8: {'brand_amount': 2070,\n",
       "  'brand_price_max': 99999,\n",
       "  'brand_price_median': 2270.0,\n",
       "  'brand_price_min': 30,\n",
       "  'brand_price_sum': 10017173,\n",
       "  'brand_price_std': 6053.233424328857,\n",
       "  'brand_price_average': 4836.88},\n",
       " 9: {'brand_amount': 7299,\n",
       "  'brand_price_max': 68530,\n",
       "  'brand_price_median': 1400.0,\n",
       "  'brand_price_min': 50,\n",
       "  'brand_price_sum': 17805271,\n",
       "  'brand_price_std': 2975.342883550469,\n",
       "  'brand_price_average': 2439.08},\n",
       " 10: {'brand_amount': 13994,\n",
       "  'brand_price_max': 92900,\n",
       "  'brand_price_median': 5200.0,\n",
       "  'brand_price_min': 15,\n",
       "  'brand_price_sum': 113034210,\n",
       "  'brand_price_std': 8244.695287191224,\n",
       "  'brand_price_average': 8076.76},\n",
       " 11: {'brand_amount': 2944,\n",
       "  'brand_price_max': 34500,\n",
       "  'brand_price_median': 2900.0,\n",
       "  'brand_price_min': 30,\n",
       "  'brand_price_sum': 13398006,\n",
       "  'brand_price_std': 4722.16049194639,\n",
       "  'brand_price_average': 4549.41},\n",
       " 12: {'brand_amount': 1108,\n",
       "  'brand_price_max': 27490,\n",
       "  'brand_price_median': 2625.0,\n",
       "  'brand_price_min': 50,\n",
       "  'brand_price_sum': 4494303,\n",
       "  'brand_price_std': 4066.9599503636523,\n",
       "  'brand_price_average': 4052.57},\n",
       " 13: {'brand_amount': 3813,\n",
       "  'brand_price_max': 35000,\n",
       "  'brand_price_median': 1600.0,\n",
       "  'brand_price_min': 20,\n",
       "  'brand_price_sum': 10675790,\n",
       "  'brand_price_std': 3073.9151958492344,\n",
       "  'brand_price_average': 2799.11},\n",
       " 14: {'brand_amount': 16073,\n",
       "  'brand_price_max': 38990,\n",
       "  'brand_price_median': 1700.0,\n",
       "  'brand_price_min': 12,\n",
       "  'brand_price_sum': 49076652,\n",
       "  'brand_price_std': 3605.595126524859,\n",
       "  'brand_price_average': 3053.17},\n",
       " 15: {'brand_amount': 1458,\n",
       "  'brand_price_max': 45000,\n",
       "  'brand_price_median': 8500.0,\n",
       "  'brand_price_min': 100,\n",
       "  'brand_price_sum': 14373814,\n",
       "  'brand_price_std': 5425.058139699541,\n",
       "  'brand_price_average': 9851.83},\n",
       " 16: {'brand_amount': 2219,\n",
       "  'brand_price_max': 17900,\n",
       "  'brand_price_median': 2999.0,\n",
       "  'brand_price_min': 20,\n",
       "  'brand_price_sum': 8078352,\n",
       "  'brand_price_std': 2450.9060888382096,\n",
       "  'brand_price_average': 3638.9},\n",
       " 17: {'brand_amount': 913,\n",
       "  'brand_price_max': 55800,\n",
       "  'brand_price_median': 2200.0,\n",
       "  'brand_price_min': 15,\n",
       "  'brand_price_sum': 3328679,\n",
       "  'brand_price_std': 3952.913329849266,\n",
       "  'brand_price_average': 3641.88},\n",
       " 18: {'brand_amount': 315,\n",
       "  'brand_price_max': 34599,\n",
       "  'brand_price_median': 1999.0,\n",
       "  'brand_price_min': 50,\n",
       "  'brand_price_sum': 1519049,\n",
       "  'brand_price_std': 6358.409760941774,\n",
       "  'brand_price_average': 4807.12},\n",
       " 19: {'brand_amount': 1386,\n",
       "  'brand_price_max': 42350,\n",
       "  'brand_price_median': 2800.0,\n",
       "  'brand_price_min': 20,\n",
       "  'brand_price_sum': 7228288,\n",
       "  'brand_price_std': 6186.538948997005,\n",
       "  'brand_price_average': 5211.45},\n",
       " 20: {'brand_amount': 1235,\n",
       "  'brand_price_max': 37800,\n",
       "  'brand_price_median': 1750.0,\n",
       "  'brand_price_min': 15,\n",
       "  'brand_price_sum': 4292737,\n",
       "  'brand_price_std': 4400.529809043852,\n",
       "  'brand_price_average': 3473.09},\n",
       " 21: {'brand_amount': 1546,\n",
       "  'brand_price_max': 35999,\n",
       "  'brand_price_median': 4225.0,\n",
       "  'brand_price_min': 50,\n",
       "  'brand_price_sum': 8856481,\n",
       "  'brand_price_std': 5257.235025504735,\n",
       "  'brand_price_average': 5724.94},\n",
       " 22: {'brand_amount': 1085,\n",
       "  'brand_price_max': 43900,\n",
       "  'brand_price_median': 3950.0,\n",
       "  'brand_price_min': 50,\n",
       "  'brand_price_sum': 6543426,\n",
       "  'brand_price_std': 5877.140886263793,\n",
       "  'brand_price_average': 6025.25},\n",
       " 23: {'brand_amount': 183,\n",
       "  'brand_price_max': 64000,\n",
       "  'brand_price_median': 1200.0,\n",
       "  'brand_price_min': 99,\n",
       "  'brand_price_sum': 597132,\n",
       "  'brand_price_std': 7333.695140365304,\n",
       "  'brand_price_average': 3245.28},\n",
       " 24: {'brand_amount': 630,\n",
       "  'brand_price_max': 99999,\n",
       "  'brand_price_median': 27450.0,\n",
       "  'brand_price_min': 15,\n",
       "  'brand_price_sum': 20422776,\n",
       "  'brand_price_std': 19855.495201252004,\n",
       "  'brand_price_average': 32365.73},\n",
       " 25: {'brand_amount': 2059,\n",
       "  'brand_price_max': 22500,\n",
       "  'brand_price_median': 2500.0,\n",
       "  'brand_price_min': 25,\n",
       "  'brand_price_sum': 7515546,\n",
       "  'brand_price_std': 3556.2498385463,\n",
       "  'brand_price_average': 3648.32},\n",
       " 26: {'brand_amount': 878,\n",
       "  'brand_price_max': 99999,\n",
       "  'brand_price_median': 5000.0,\n",
       "  'brand_price_min': 11,\n",
       "  'brand_price_sum': 7242792,\n",
       "  'brand_price_std': 10282.98727383031,\n",
       "  'brand_price_average': 8239.81},\n",
       " 27: {'brand_amount': 2049,\n",
       "  'brand_price_max': 62900,\n",
       "  'brand_price_median': 4200.0,\n",
       "  'brand_price_min': 35,\n",
       "  'brand_price_sum': 10862559,\n",
       "  'brand_price_std': 4853.289239604342,\n",
       "  'brand_price_average': 5298.81},\n",
       " 28: {'brand_amount': 633,\n",
       "  'brand_price_max': 39900,\n",
       "  'brand_price_median': 3790.0,\n",
       "  'brand_price_min': 80,\n",
       "  'brand_price_sum': 3373957,\n",
       "  'brand_price_std': 4509.03630065389,\n",
       "  'brand_price_average': 5321.7},\n",
       " 29: {'brand_amount': 406,\n",
       "  'brand_price_max': 19990,\n",
       "  'brand_price_median': 5250.0,\n",
       "  'brand_price_min': 500,\n",
       "  'brand_price_sum': 2459028,\n",
       "  'brand_price_std': 3639.7377221985953,\n",
       "  'brand_price_average': 6041.84},\n",
       " 30: {'brand_amount': 940,\n",
       "  'brand_price_max': 23200,\n",
       "  'brand_price_median': 3295.0,\n",
       "  'brand_price_min': 50,\n",
       "  'brand_price_sum': 3939145,\n",
       "  'brand_price_std': 3659.577291449609,\n",
       "  'brand_price_average': 4186.13},\n",
       " 31: {'brand_amount': 318,\n",
       "  'brand_price_max': 11000,\n",
       "  'brand_price_median': 1000.0,\n",
       "  'brand_price_min': 50,\n",
       "  'brand_price_sum': 560155,\n",
       "  'brand_price_std': 1829.0792114585884,\n",
       "  'brand_price_average': 1755.97},\n",
       " 32: {'brand_amount': 588,\n",
       "  'brand_price_max': 33500,\n",
       "  'brand_price_median': 2350.0,\n",
       "  'brand_price_min': 50,\n",
       "  'brand_price_sum': 2360095,\n",
       "  'brand_price_std': 4394.596002169336,\n",
       "  'brand_price_average': 4006.95},\n",
       " 33: {'brand_amount': 201,\n",
       "  'brand_price_max': 65000,\n",
       "  'brand_price_median': 5600.0,\n",
       "  'brand_price_min': 980,\n",
       "  'brand_price_sum': 1839801,\n",
       "  'brand_price_std': 9637.135323460314,\n",
       "  'brand_price_average': 9107.93},\n",
       " 34: {'brand_amount': 227,\n",
       "  'brand_price_max': 2900,\n",
       "  'brand_price_median': 999.0,\n",
       "  'brand_price_min': 60,\n",
       "  'brand_price_sum': 231776,\n",
       "  'brand_price_std': 554.1184445887935,\n",
       "  'brand_price_average': 1016.56},\n",
       " 35: {'brand_amount': 180,\n",
       "  'brand_price_max': 28900,\n",
       "  'brand_price_median': 950.0,\n",
       "  'brand_price_min': 50,\n",
       "  'brand_price_sum': 297977,\n",
       "  'brand_price_std': 3325.9333650788553,\n",
       "  'brand_price_average': 1646.28},\n",
       " 36: {'brand_amount': 228,\n",
       "  'brand_price_max': 20900,\n",
       "  'brand_price_median': 2250.0,\n",
       "  'brand_price_min': 150,\n",
       "  'brand_price_sum': 816001,\n",
       "  'brand_price_std': 3922.7153885654966,\n",
       "  'brand_price_average': 3563.32},\n",
       " 37: {'brand_amount': 331,\n",
       "  'brand_price_max': 86500,\n",
       "  'brand_price_median': 13250.0,\n",
       "  'brand_price_min': 550,\n",
       "  'brand_price_sum': 5371844,\n",
       "  'brand_price_std': 13541.180315243788,\n",
       "  'brand_price_average': 16180.25},\n",
       " 38: {'brand_amount': 65,\n",
       "  'brand_price_max': 8999,\n",
       "  'brand_price_median': 2850.0,\n",
       "  'brand_price_min': 99,\n",
       "  'brand_price_sum': 215620,\n",
       "  'brand_price_std': 2140.083145064336,\n",
       "  'brand_price_average': 3266.97},\n",
       " 39: {'brand_amount': 9,\n",
       "  'brand_price_max': 14500,\n",
       "  'brand_price_median': 1900.0,\n",
       "  'brand_price_min': 750,\n",
       "  'brand_price_sum': 39480,\n",
       "  'brand_price_std': 5520.867232600327,\n",
       "  'brand_price_average': 3948.0}}"
      ]
     },
     "execution_count": 12,
     "metadata": {},
     "output_type": "execute_result"
    }
   ],
   "source": [
    "all_info"
   ]
  },
  {
   "cell_type": "code",
   "execution_count": 13,
   "metadata": {
    "scrolled": true
   },
   "outputs": [
    {
     "data": {
      "text/html": [
       "<div>\n",
       "<style scoped>\n",
       "    .dataframe tbody tr th:only-of-type {\n",
       "        vertical-align: middle;\n",
       "    }\n",
       "\n",
       "    .dataframe tbody tr th {\n",
       "        vertical-align: top;\n",
       "    }\n",
       "\n",
       "    .dataframe thead th {\n",
       "        text-align: right;\n",
       "    }\n",
       "</style>\n",
       "<table border=\"1\" class=\"dataframe\">\n",
       "  <thead>\n",
       "    <tr style=\"text-align: right;\">\n",
       "      <th></th>\n",
       "      <th>brand_amount</th>\n",
       "      <th>brand_price_max</th>\n",
       "      <th>brand_price_median</th>\n",
       "      <th>brand_price_min</th>\n",
       "      <th>brand_price_sum</th>\n",
       "      <th>brand_price_std</th>\n",
       "      <th>brand_price_average</th>\n",
       "    </tr>\n",
       "  </thead>\n",
       "  <tbody>\n",
       "    <tr>\n",
       "      <th>0</th>\n",
       "      <td>31429.0</td>\n",
       "      <td>68500.0</td>\n",
       "      <td>3199.0</td>\n",
       "      <td>13.0</td>\n",
       "      <td>173719698.0</td>\n",
       "      <td>6261.371627</td>\n",
       "      <td>5527.19</td>\n",
       "    </tr>\n",
       "    <tr>\n",
       "      <th>1</th>\n",
       "      <td>13656.0</td>\n",
       "      <td>84000.0</td>\n",
       "      <td>6399.0</td>\n",
       "      <td>15.0</td>\n",
       "      <td>124044603.0</td>\n",
       "      <td>8988.865406</td>\n",
       "      <td>9082.86</td>\n",
       "    </tr>\n",
       "    <tr>\n",
       "      <th>2</th>\n",
       "      <td>318.0</td>\n",
       "      <td>55800.0</td>\n",
       "      <td>7500.0</td>\n",
       "      <td>35.0</td>\n",
       "      <td>3766241.0</td>\n",
       "      <td>10576.224444</td>\n",
       "      <td>11806.40</td>\n",
       "    </tr>\n",
       "    <tr>\n",
       "      <th>3</th>\n",
       "      <td>2461.0</td>\n",
       "      <td>37500.0</td>\n",
       "      <td>4990.0</td>\n",
       "      <td>65.0</td>\n",
       "      <td>15954226.0</td>\n",
       "      <td>5396.327503</td>\n",
       "      <td>6480.19</td>\n",
       "    </tr>\n",
       "    <tr>\n",
       "      <th>4</th>\n",
       "      <td>16575.0</td>\n",
       "      <td>99999.0</td>\n",
       "      <td>5999.0</td>\n",
       "      <td>12.0</td>\n",
       "      <td>138279069.0</td>\n",
       "      <td>8089.863295</td>\n",
       "      <td>8342.13</td>\n",
       "    </tr>\n",
       "    <tr>\n",
       "      <th>5</th>\n",
       "      <td>4662.0</td>\n",
       "      <td>31500.0</td>\n",
       "      <td>2300.0</td>\n",
       "      <td>20.0</td>\n",
       "      <td>15414322.0</td>\n",
       "      <td>3344.689763</td>\n",
       "      <td>3305.67</td>\n",
       "    </tr>\n",
       "    <tr>\n",
       "      <th>6</th>\n",
       "      <td>10193.0</td>\n",
       "      <td>35990.0</td>\n",
       "      <td>1800.0</td>\n",
       "      <td>13.0</td>\n",
       "      <td>36457518.0</td>\n",
       "      <td>4562.233331</td>\n",
       "      <td>3576.37</td>\n",
       "    </tr>\n",
       "    <tr>\n",
       "      <th>7</th>\n",
       "      <td>2360.0</td>\n",
       "      <td>38900.0</td>\n",
       "      <td>2600.0</td>\n",
       "      <td>60.0</td>\n",
       "      <td>9905909.0</td>\n",
       "      <td>4752.584154</td>\n",
       "      <td>4195.64</td>\n",
       "    </tr>\n",
       "    <tr>\n",
       "      <th>8</th>\n",
       "      <td>2070.0</td>\n",
       "      <td>99999.0</td>\n",
       "      <td>2270.0</td>\n",
       "      <td>30.0</td>\n",
       "      <td>10017173.0</td>\n",
       "      <td>6053.233424</td>\n",
       "      <td>4836.88</td>\n",
       "    </tr>\n",
       "    <tr>\n",
       "      <th>9</th>\n",
       "      <td>7299.0</td>\n",
       "      <td>68530.0</td>\n",
       "      <td>1400.0</td>\n",
       "      <td>50.0</td>\n",
       "      <td>17805271.0</td>\n",
       "      <td>2975.342884</td>\n",
       "      <td>2439.08</td>\n",
       "    </tr>\n",
       "    <tr>\n",
       "      <th>10</th>\n",
       "      <td>13994.0</td>\n",
       "      <td>92900.0</td>\n",
       "      <td>5200.0</td>\n",
       "      <td>15.0</td>\n",
       "      <td>113034210.0</td>\n",
       "      <td>8244.695287</td>\n",
       "      <td>8076.76</td>\n",
       "    </tr>\n",
       "    <tr>\n",
       "      <th>11</th>\n",
       "      <td>2944.0</td>\n",
       "      <td>34500.0</td>\n",
       "      <td>2900.0</td>\n",
       "      <td>30.0</td>\n",
       "      <td>13398006.0</td>\n",
       "      <td>4722.160492</td>\n",
       "      <td>4549.41</td>\n",
       "    </tr>\n",
       "    <tr>\n",
       "      <th>12</th>\n",
       "      <td>1108.0</td>\n",
       "      <td>27490.0</td>\n",
       "      <td>2625.0</td>\n",
       "      <td>50.0</td>\n",
       "      <td>4494303.0</td>\n",
       "      <td>4066.959950</td>\n",
       "      <td>4052.57</td>\n",
       "    </tr>\n",
       "    <tr>\n",
       "      <th>13</th>\n",
       "      <td>3813.0</td>\n",
       "      <td>35000.0</td>\n",
       "      <td>1600.0</td>\n",
       "      <td>20.0</td>\n",
       "      <td>10675790.0</td>\n",
       "      <td>3073.915196</td>\n",
       "      <td>2799.11</td>\n",
       "    </tr>\n",
       "    <tr>\n",
       "      <th>14</th>\n",
       "      <td>16073.0</td>\n",
       "      <td>38990.0</td>\n",
       "      <td>1700.0</td>\n",
       "      <td>12.0</td>\n",
       "      <td>49076652.0</td>\n",
       "      <td>3605.595127</td>\n",
       "      <td>3053.17</td>\n",
       "    </tr>\n",
       "    <tr>\n",
       "      <th>15</th>\n",
       "      <td>1458.0</td>\n",
       "      <td>45000.0</td>\n",
       "      <td>8500.0</td>\n",
       "      <td>100.0</td>\n",
       "      <td>14373814.0</td>\n",
       "      <td>5425.058140</td>\n",
       "      <td>9851.83</td>\n",
       "    </tr>\n",
       "    <tr>\n",
       "      <th>16</th>\n",
       "      <td>2219.0</td>\n",
       "      <td>17900.0</td>\n",
       "      <td>2999.0</td>\n",
       "      <td>20.0</td>\n",
       "      <td>8078352.0</td>\n",
       "      <td>2450.906089</td>\n",
       "      <td>3638.90</td>\n",
       "    </tr>\n",
       "    <tr>\n",
       "      <th>17</th>\n",
       "      <td>913.0</td>\n",
       "      <td>55800.0</td>\n",
       "      <td>2200.0</td>\n",
       "      <td>15.0</td>\n",
       "      <td>3328679.0</td>\n",
       "      <td>3952.913330</td>\n",
       "      <td>3641.88</td>\n",
       "    </tr>\n",
       "    <tr>\n",
       "      <th>18</th>\n",
       "      <td>315.0</td>\n",
       "      <td>34599.0</td>\n",
       "      <td>1999.0</td>\n",
       "      <td>50.0</td>\n",
       "      <td>1519049.0</td>\n",
       "      <td>6358.409761</td>\n",
       "      <td>4807.12</td>\n",
       "    </tr>\n",
       "    <tr>\n",
       "      <th>19</th>\n",
       "      <td>1386.0</td>\n",
       "      <td>42350.0</td>\n",
       "      <td>2800.0</td>\n",
       "      <td>20.0</td>\n",
       "      <td>7228288.0</td>\n",
       "      <td>6186.538949</td>\n",
       "      <td>5211.45</td>\n",
       "    </tr>\n",
       "    <tr>\n",
       "      <th>20</th>\n",
       "      <td>1235.0</td>\n",
       "      <td>37800.0</td>\n",
       "      <td>1750.0</td>\n",
       "      <td>15.0</td>\n",
       "      <td>4292737.0</td>\n",
       "      <td>4400.529809</td>\n",
       "      <td>3473.09</td>\n",
       "    </tr>\n",
       "    <tr>\n",
       "      <th>21</th>\n",
       "      <td>1546.0</td>\n",
       "      <td>35999.0</td>\n",
       "      <td>4225.0</td>\n",
       "      <td>50.0</td>\n",
       "      <td>8856481.0</td>\n",
       "      <td>5257.235026</td>\n",
       "      <td>5724.94</td>\n",
       "    </tr>\n",
       "    <tr>\n",
       "      <th>22</th>\n",
       "      <td>1085.0</td>\n",
       "      <td>43900.0</td>\n",
       "      <td>3950.0</td>\n",
       "      <td>50.0</td>\n",
       "      <td>6543426.0</td>\n",
       "      <td>5877.140886</td>\n",
       "      <td>6025.25</td>\n",
       "    </tr>\n",
       "    <tr>\n",
       "      <th>23</th>\n",
       "      <td>183.0</td>\n",
       "      <td>64000.0</td>\n",
       "      <td>1200.0</td>\n",
       "      <td>99.0</td>\n",
       "      <td>597132.0</td>\n",
       "      <td>7333.695140</td>\n",
       "      <td>3245.28</td>\n",
       "    </tr>\n",
       "    <tr>\n",
       "      <th>24</th>\n",
       "      <td>630.0</td>\n",
       "      <td>99999.0</td>\n",
       "      <td>27450.0</td>\n",
       "      <td>15.0</td>\n",
       "      <td>20422776.0</td>\n",
       "      <td>19855.495201</td>\n",
       "      <td>32365.73</td>\n",
       "    </tr>\n",
       "    <tr>\n",
       "      <th>25</th>\n",
       "      <td>2059.0</td>\n",
       "      <td>22500.0</td>\n",
       "      <td>2500.0</td>\n",
       "      <td>25.0</td>\n",
       "      <td>7515546.0</td>\n",
       "      <td>3556.249839</td>\n",
       "      <td>3648.32</td>\n",
       "    </tr>\n",
       "    <tr>\n",
       "      <th>26</th>\n",
       "      <td>878.0</td>\n",
       "      <td>99999.0</td>\n",
       "      <td>5000.0</td>\n",
       "      <td>11.0</td>\n",
       "      <td>7242792.0</td>\n",
       "      <td>10282.987274</td>\n",
       "      <td>8239.81</td>\n",
       "    </tr>\n",
       "    <tr>\n",
       "      <th>27</th>\n",
       "      <td>2049.0</td>\n",
       "      <td>62900.0</td>\n",
       "      <td>4200.0</td>\n",
       "      <td>35.0</td>\n",
       "      <td>10862559.0</td>\n",
       "      <td>4853.289240</td>\n",
       "      <td>5298.81</td>\n",
       "    </tr>\n",
       "    <tr>\n",
       "      <th>28</th>\n",
       "      <td>633.0</td>\n",
       "      <td>39900.0</td>\n",
       "      <td>3790.0</td>\n",
       "      <td>80.0</td>\n",
       "      <td>3373957.0</td>\n",
       "      <td>4509.036301</td>\n",
       "      <td>5321.70</td>\n",
       "    </tr>\n",
       "    <tr>\n",
       "      <th>29</th>\n",
       "      <td>406.0</td>\n",
       "      <td>19990.0</td>\n",
       "      <td>5250.0</td>\n",
       "      <td>500.0</td>\n",
       "      <td>2459028.0</td>\n",
       "      <td>3639.737722</td>\n",
       "      <td>6041.84</td>\n",
       "    </tr>\n",
       "    <tr>\n",
       "      <th>30</th>\n",
       "      <td>940.0</td>\n",
       "      <td>23200.0</td>\n",
       "      <td>3295.0</td>\n",
       "      <td>50.0</td>\n",
       "      <td>3939145.0</td>\n",
       "      <td>3659.577291</td>\n",
       "      <td>4186.13</td>\n",
       "    </tr>\n",
       "    <tr>\n",
       "      <th>31</th>\n",
       "      <td>318.0</td>\n",
       "      <td>11000.0</td>\n",
       "      <td>1000.0</td>\n",
       "      <td>50.0</td>\n",
       "      <td>560155.0</td>\n",
       "      <td>1829.079211</td>\n",
       "      <td>1755.97</td>\n",
       "    </tr>\n",
       "    <tr>\n",
       "      <th>32</th>\n",
       "      <td>588.0</td>\n",
       "      <td>33500.0</td>\n",
       "      <td>2350.0</td>\n",
       "      <td>50.0</td>\n",
       "      <td>2360095.0</td>\n",
       "      <td>4394.596002</td>\n",
       "      <td>4006.95</td>\n",
       "    </tr>\n",
       "    <tr>\n",
       "      <th>33</th>\n",
       "      <td>201.0</td>\n",
       "      <td>65000.0</td>\n",
       "      <td>5600.0</td>\n",
       "      <td>980.0</td>\n",
       "      <td>1839801.0</td>\n",
       "      <td>9637.135323</td>\n",
       "      <td>9107.93</td>\n",
       "    </tr>\n",
       "    <tr>\n",
       "      <th>34</th>\n",
       "      <td>227.0</td>\n",
       "      <td>2900.0</td>\n",
       "      <td>999.0</td>\n",
       "      <td>60.0</td>\n",
       "      <td>231776.0</td>\n",
       "      <td>554.118445</td>\n",
       "      <td>1016.56</td>\n",
       "    </tr>\n",
       "    <tr>\n",
       "      <th>35</th>\n",
       "      <td>180.0</td>\n",
       "      <td>28900.0</td>\n",
       "      <td>950.0</td>\n",
       "      <td>50.0</td>\n",
       "      <td>297977.0</td>\n",
       "      <td>3325.933365</td>\n",
       "      <td>1646.28</td>\n",
       "    </tr>\n",
       "    <tr>\n",
       "      <th>36</th>\n",
       "      <td>228.0</td>\n",
       "      <td>20900.0</td>\n",
       "      <td>2250.0</td>\n",
       "      <td>150.0</td>\n",
       "      <td>816001.0</td>\n",
       "      <td>3922.715389</td>\n",
       "      <td>3563.32</td>\n",
       "    </tr>\n",
       "    <tr>\n",
       "      <th>37</th>\n",
       "      <td>331.0</td>\n",
       "      <td>86500.0</td>\n",
       "      <td>13250.0</td>\n",
       "      <td>550.0</td>\n",
       "      <td>5371844.0</td>\n",
       "      <td>13541.180315</td>\n",
       "      <td>16180.25</td>\n",
       "    </tr>\n",
       "    <tr>\n",
       "      <th>38</th>\n",
       "      <td>65.0</td>\n",
       "      <td>8999.0</td>\n",
       "      <td>2850.0</td>\n",
       "      <td>99.0</td>\n",
       "      <td>215620.0</td>\n",
       "      <td>2140.083145</td>\n",
       "      <td>3266.97</td>\n",
       "    </tr>\n",
       "    <tr>\n",
       "      <th>39</th>\n",
       "      <td>9.0</td>\n",
       "      <td>14500.0</td>\n",
       "      <td>1900.0</td>\n",
       "      <td>750.0</td>\n",
       "      <td>39480.0</td>\n",
       "      <td>5520.867233</td>\n",
       "      <td>3948.00</td>\n",
       "    </tr>\n",
       "  </tbody>\n",
       "</table>\n",
       "</div>"
      ],
      "text/plain": [
       "    brand_amount  brand_price_max  brand_price_median  brand_price_min  \\\n",
       "0        31429.0          68500.0              3199.0             13.0   \n",
       "1        13656.0          84000.0              6399.0             15.0   \n",
       "2          318.0          55800.0              7500.0             35.0   \n",
       "3         2461.0          37500.0              4990.0             65.0   \n",
       "4        16575.0          99999.0              5999.0             12.0   \n",
       "5         4662.0          31500.0              2300.0             20.0   \n",
       "6        10193.0          35990.0              1800.0             13.0   \n",
       "7         2360.0          38900.0              2600.0             60.0   \n",
       "8         2070.0          99999.0              2270.0             30.0   \n",
       "9         7299.0          68530.0              1400.0             50.0   \n",
       "10       13994.0          92900.0              5200.0             15.0   \n",
       "11        2944.0          34500.0              2900.0             30.0   \n",
       "12        1108.0          27490.0              2625.0             50.0   \n",
       "13        3813.0          35000.0              1600.0             20.0   \n",
       "14       16073.0          38990.0              1700.0             12.0   \n",
       "15        1458.0          45000.0              8500.0            100.0   \n",
       "16        2219.0          17900.0              2999.0             20.0   \n",
       "17         913.0          55800.0              2200.0             15.0   \n",
       "18         315.0          34599.0              1999.0             50.0   \n",
       "19        1386.0          42350.0              2800.0             20.0   \n",
       "20        1235.0          37800.0              1750.0             15.0   \n",
       "21        1546.0          35999.0              4225.0             50.0   \n",
       "22        1085.0          43900.0              3950.0             50.0   \n",
       "23         183.0          64000.0              1200.0             99.0   \n",
       "24         630.0          99999.0             27450.0             15.0   \n",
       "25        2059.0          22500.0              2500.0             25.0   \n",
       "26         878.0          99999.0              5000.0             11.0   \n",
       "27        2049.0          62900.0              4200.0             35.0   \n",
       "28         633.0          39900.0              3790.0             80.0   \n",
       "29         406.0          19990.0              5250.0            500.0   \n",
       "30         940.0          23200.0              3295.0             50.0   \n",
       "31         318.0          11000.0              1000.0             50.0   \n",
       "32         588.0          33500.0              2350.0             50.0   \n",
       "33         201.0          65000.0              5600.0            980.0   \n",
       "34         227.0           2900.0               999.0             60.0   \n",
       "35         180.0          28900.0               950.0             50.0   \n",
       "36         228.0          20900.0              2250.0            150.0   \n",
       "37         331.0          86500.0             13250.0            550.0   \n",
       "38          65.0           8999.0              2850.0             99.0   \n",
       "39           9.0          14500.0              1900.0            750.0   \n",
       "\n",
       "    brand_price_sum  brand_price_std  brand_price_average  \n",
       "0       173719698.0      6261.371627              5527.19  \n",
       "1       124044603.0      8988.865406              9082.86  \n",
       "2         3766241.0     10576.224444             11806.40  \n",
       "3        15954226.0      5396.327503              6480.19  \n",
       "4       138279069.0      8089.863295              8342.13  \n",
       "5        15414322.0      3344.689763              3305.67  \n",
       "6        36457518.0      4562.233331              3576.37  \n",
       "7         9905909.0      4752.584154              4195.64  \n",
       "8        10017173.0      6053.233424              4836.88  \n",
       "9        17805271.0      2975.342884              2439.08  \n",
       "10      113034210.0      8244.695287              8076.76  \n",
       "11       13398006.0      4722.160492              4549.41  \n",
       "12        4494303.0      4066.959950              4052.57  \n",
       "13       10675790.0      3073.915196              2799.11  \n",
       "14       49076652.0      3605.595127              3053.17  \n",
       "15       14373814.0      5425.058140              9851.83  \n",
       "16        8078352.0      2450.906089              3638.90  \n",
       "17        3328679.0      3952.913330              3641.88  \n",
       "18        1519049.0      6358.409761              4807.12  \n",
       "19        7228288.0      6186.538949              5211.45  \n",
       "20        4292737.0      4400.529809              3473.09  \n",
       "21        8856481.0      5257.235026              5724.94  \n",
       "22        6543426.0      5877.140886              6025.25  \n",
       "23         597132.0      7333.695140              3245.28  \n",
       "24       20422776.0     19855.495201             32365.73  \n",
       "25        7515546.0      3556.249839              3648.32  \n",
       "26        7242792.0     10282.987274              8239.81  \n",
       "27       10862559.0      4853.289240              5298.81  \n",
       "28        3373957.0      4509.036301              5321.70  \n",
       "29        2459028.0      3639.737722              6041.84  \n",
       "30        3939145.0      3659.577291              4186.13  \n",
       "31         560155.0      1829.079211              1755.97  \n",
       "32        2360095.0      4394.596002              4006.95  \n",
       "33        1839801.0      9637.135323              9107.93  \n",
       "34         231776.0       554.118445              1016.56  \n",
       "35         297977.0      3325.933365              1646.28  \n",
       "36         816001.0      3922.715389              3563.32  \n",
       "37        5371844.0     13541.180315             16180.25  \n",
       "38         215620.0      2140.083145              3266.97  \n",
       "39          39480.0      5520.867233              3948.00  "
      ]
     },
     "execution_count": 13,
     "metadata": {},
     "output_type": "execute_result"
    }
   ],
   "source": [
    "pd.DataFrame(all_info).T"
   ]
  },
  {
   "cell_type": "code",
   "execution_count": 14,
   "metadata": {
    "scrolled": true
   },
   "outputs": [
    {
     "data": {
      "text/plain": [
       "Index(['brand_amount', 'brand_price_max', 'brand_price_median',\n",
       "       'brand_price_min', 'brand_price_sum', 'brand_price_std',\n",
       "       'brand_price_average'],\n",
       "      dtype='object')"
      ]
     },
     "execution_count": 14,
     "metadata": {},
     "output_type": "execute_result"
    }
   ],
   "source": [
    "b = pd.DataFrame(all_info).T.rename(columns={\"index\":\"brand\"})\n",
    "b.columns"
   ]
  },
  {
   "cell_type": "code",
   "execution_count": 15,
   "metadata": {},
   "outputs": [
    {
     "data": {
      "text/plain": [
       "Index(['SaleID', 'bodyType', 'brand', 'creatDate', 'fuelType', 'gearbox',\n",
       "       'kilometer', 'model', 'name', 'notRepairedDamage', 'offerType', 'power',\n",
       "       'price', 'regDate', 'regionCode', 'seller', 'train', 'v_0', 'v_1',\n",
       "       'v_10', 'v_11', 'v_12', 'v_13', 'v_14', 'v_2', 'v_3', 'v_4', 'v_5',\n",
       "       'v_6', 'v_7', 'v_8', 'v_9', 'used_time', 'city', 'brand_amount',\n",
       "       'brand_price_max', 'brand_price_median', 'brand_price_min',\n",
       "       'brand_price_sum', 'brand_price_std', 'brand_price_average'],\n",
       "      dtype='object')"
      ]
     },
     "execution_count": 15,
     "metadata": {},
     "output_type": "execute_result"
    }
   ],
   "source": [
    "brand_fe = pd.DataFrame(all_info).T.reset_index().rename(columns={\"index\":\"brand\"})\n",
    "data = data.merge(brand_fe, how='left', on='brand')\n",
    "data.columns"
   ]
  },
  {
   "cell_type": "code",
   "execution_count": 16,
   "metadata": {},
   "outputs": [
    {
     "data": {
      "text/plain": [
       "Index(['brand', 'brand_amount', 'brand_price_max', 'brand_price_median',\n",
       "       'brand_price_min', 'brand_price_sum', 'brand_price_std',\n",
       "       'brand_price_average'],\n",
       "      dtype='object')"
      ]
     },
     "execution_count": 16,
     "metadata": {},
     "output_type": "execute_result"
    }
   ],
   "source": [
    "brand_fe.columns"
   ]
  },
  {
   "cell_type": "code",
   "execution_count": 17,
   "metadata": {},
   "outputs": [
    {
     "data": {
      "text/html": [
       "<div>\n",
       "<style scoped>\n",
       "    .dataframe tbody tr th:only-of-type {\n",
       "        vertical-align: middle;\n",
       "    }\n",
       "\n",
       "    .dataframe tbody tr th {\n",
       "        vertical-align: top;\n",
       "    }\n",
       "\n",
       "    .dataframe thead th {\n",
       "        text-align: right;\n",
       "    }\n",
       "</style>\n",
       "<table border=\"1\" class=\"dataframe\">\n",
       "  <thead>\n",
       "    <tr style=\"text-align: right;\">\n",
       "      <th></th>\n",
       "      <th>power_bin</th>\n",
       "      <th>power</th>\n",
       "    </tr>\n",
       "  </thead>\n",
       "  <tbody>\n",
       "    <tr>\n",
       "      <th>0</th>\n",
       "      <td>5.0</td>\n",
       "      <td>60</td>\n",
       "    </tr>\n",
       "    <tr>\n",
       "      <th>1</th>\n",
       "      <td>NaN</td>\n",
       "      <td>0</td>\n",
       "    </tr>\n",
       "    <tr>\n",
       "      <th>2</th>\n",
       "      <td>16.0</td>\n",
       "      <td>163</td>\n",
       "    </tr>\n",
       "    <tr>\n",
       "      <th>3</th>\n",
       "      <td>19.0</td>\n",
       "      <td>193</td>\n",
       "    </tr>\n",
       "    <tr>\n",
       "      <th>4</th>\n",
       "      <td>6.0</td>\n",
       "      <td>68</td>\n",
       "    </tr>\n",
       "    <tr>\n",
       "      <th>5</th>\n",
       "      <td>10.0</td>\n",
       "      <td>109</td>\n",
       "    </tr>\n",
       "    <tr>\n",
       "      <th>6</th>\n",
       "      <td>14.0</td>\n",
       "      <td>150</td>\n",
       "    </tr>\n",
       "    <tr>\n",
       "      <th>7</th>\n",
       "      <td>10.0</td>\n",
       "      <td>101</td>\n",
       "    </tr>\n",
       "    <tr>\n",
       "      <th>8</th>\n",
       "      <td>17.0</td>\n",
       "      <td>179</td>\n",
       "    </tr>\n",
       "    <tr>\n",
       "      <th>9</th>\n",
       "      <td>8.0</td>\n",
       "      <td>88</td>\n",
       "    </tr>\n",
       "  </tbody>\n",
       "</table>\n",
       "</div>"
      ],
      "text/plain": [
       "   power_bin  power\n",
       "0        5.0     60\n",
       "1        NaN      0\n",
       "2       16.0    163\n",
       "3       19.0    193\n",
       "4        6.0     68\n",
       "5       10.0    109\n",
       "6       14.0    150\n",
       "7       10.0    101\n",
       "8       17.0    179\n",
       "9        8.0     88"
      ]
     },
     "execution_count": 17,
     "metadata": {},
     "output_type": "execute_result"
    }
   ],
   "source": [
    "bin = [i*10 for i in range(31)]\n",
    "data['power_bin'] = pd.cut(data['power'], bin, labels=False)\n",
    "data[['power_bin', 'power']].head(10)"
   ]
  },
  {
   "cell_type": "code",
   "execution_count": 18,
   "metadata": {},
   "outputs": [
    {
     "name": "stdout",
     "output_type": "stream",
     "text": [
      "(199037, 39)\n"
     ]
    },
    {
     "data": {
      "text/plain": [
       "Index(['SaleID', 'bodyType', 'brand', 'fuelType', 'gearbox', 'kilometer',\n",
       "       'model', 'name', 'notRepairedDamage', 'offerType', 'power', 'price',\n",
       "       'seller', 'train', 'v_0', 'v_1', 'v_10', 'v_11', 'v_12', 'v_13', 'v_14',\n",
       "       'v_2', 'v_3', 'v_4', 'v_5', 'v_6', 'v_7', 'v_8', 'v_9', 'used_time',\n",
       "       'city', 'brand_amount', 'brand_price_max', 'brand_price_median',\n",
       "       'brand_price_min', 'brand_price_sum', 'brand_price_std',\n",
       "       'brand_price_average', 'power_bin'],\n",
       "      dtype='object')"
      ]
     },
     "execution_count": 18,
     "metadata": {},
     "output_type": "execute_result"
    }
   ],
   "source": [
    "data = data.drop(['creatDate', 'regDate', 'regionCode'], axis=1)\n",
    "print(data.shape)\n",
    "data.columns"
   ]
  },
  {
   "cell_type": "code",
   "execution_count": 19,
   "metadata": {},
   "outputs": [],
   "source": [
    "data.to_csv('data_for_tree.csv', index=0)#给树模型使用"
   ]
  },
  {
   "cell_type": "code",
   "execution_count": 20,
   "metadata": {},
   "outputs": [
    {
     "data": {
      "text/plain": [
       "<matplotlib.axes._subplots.AxesSubplot at 0x2ae92c70898>"
      ]
     },
     "execution_count": 20,
     "metadata": {},
     "output_type": "execute_result"
    },
    {
     "data": {
      "image/png": "[encoded data removed]",
      "text/plain": [
       "<Figure size 432x288 with 1 Axes>"
      ]
     },
     "metadata": {
      "needs_background": "light"
     },
     "output_type": "display_data"
    }
   ],
   "source": [
    "data['power'].plot.hist()"
   ]
  },
  {
   "cell_type": "code",
   "execution_count": 21,
   "metadata": {},
   "outputs": [
    {
     "data": {
      "text/plain": [
       "<matplotlib.axes._subplots.AxesSubplot at 0x2ae92c707b8>"
      ]
     },
     "execution_count": 21,
     "metadata": {},
     "output_type": "execute_result"
    },
    {
     "data": {
      "image/png": "[encoded data removed]",
      "text/plain": [
       "<Figure size 432x288 with 1 Axes>"
      ]
     },
     "metadata": {
      "needs_background": "light"
     },
     "output_type": "display_data"
    }
   ],
   "source": [
    "train_data['power'].plot.hist()"
   ]
  },
  {
   "cell_type": "code",
   "execution_count": 22,
   "metadata": {},
   "outputs": [
    {
     "data": {
      "text/plain": [
       "<matplotlib.axes._subplots.AxesSubplot at 0x2ae9389f5c0>"
      ]
     },
     "execution_count": 22,
     "metadata": {},
     "output_type": "execute_result"
    },
    {
     "data": {
      "image/png": "[encoded data removed]",
      "text/plain": [
       "<Figure size 432x288 with 1 Axes>"
      ]
     },
     "metadata": {
      "needs_background": "light"
     },
     "output_type": "display_data"
    }
   ],
   "source": [
    "from sklearn import preprocessing\n",
    "min_max_scaler = preprocessing.MinMaxScaler()\n",
    "data['power'] = np.log(data['power'] + 1)\n",
    "data['power'] = ((data['power'] - np.min(data['power'])) / (np.max(data['power'])-np.min(data['power'])))\n",
    "data['power'].plot.hist()"
   ]
  },
  {
   "cell_type": "code",
   "execution_count": 23,
   "metadata": {},
   "outputs": [
    {
     "data": {
      "text/plain": [
       "<matplotlib.axes._subplots.AxesSubplot at 0x2ae938c5fd0>"
      ]
     },
     "execution_count": 23,
     "metadata": {},
     "output_type": "execute_result"
    },
    {
     "data": {
      "image/png": "[encoded data removed]",
      "text/plain": [
       "<Figure size 432x288 with 1 Axes>"
      ]
     },
     "metadata": {
      "needs_background": "light"
     },
     "output_type": "display_data"
    }
   ],
   "source": [
    "data['kilometer'].plot.hist()"
   ]
  },
  {
   "cell_type": "code",
   "execution_count": 24,
   "metadata": {},
   "outputs": [
    {
     "data": {
      "text/plain": [
       "<matplotlib.axes._subplots.AxesSubplot at 0x2ae92b9ccf8>"
      ]
     },
     "execution_count": 24,
     "metadata": {},
     "output_type": "execute_result"
    },
    {
     "data": {
      "image/png": "[encoded data removed]",
      "text/plain": [
       "<Figure size 432x288 with 1 Axes>"
      ]
     },
     "metadata": {
      "needs_background": "light"
     },
     "output_type": "display_data"
    }
   ],
   "source": [
    "data['kilometer'] = ((data['kilometer'] - np.min(data['kilometer'])) / \n",
    "                    (np.max(data['kilometer']) - np.min(data['kilometer'])))\n",
    "data['kilometer'].plot.hist()"
   ]
  },
  {
   "cell_type": "code",
   "execution_count": 25,
   "metadata": {},
   "outputs": [],
   "source": [
    "def max_min(x):\n",
    "    return (x - np.min(x)) / (np.max(x) - np.min(x))\n",
    "\n",
    "data['brand_amount'] = (data['brand_amount'] - np.min(data['brand_amount']) / \n",
    "                       (np.max(data['brand_amount']) - np.min(data['brand_amount'])))\n",
    "data['brand_price_average'] = (data['brand_price_average'] - np.min(data['brand_price_average']) / \n",
    "                       (np.max(data['brand_price_average']) - np.min(data['brand_price_average'])))\n",
    "data['brand_price_max'] = (data['brand_price_max'] - np.min(data['brand_price_max']) / \n",
    "                       (np.max(data['brand_price_max']) - np.min(data['brand_price_max'])))\n",
    "data['brand_price_median'] = (data['brand_price_median'] - np.min(data['brand_price_median']) / \n",
    "                       (np.max(data['brand_price_median']) - np.min(data['brand_price_median'])))\n",
    "data['brand_price_min'] = (data['brand_price_min'] - np.min(data['brand_price_min']) / \n",
    "                       (np.max(data['brand_price_min']) - np.min(data['brand_price_min'])))\n",
    "data['brand_price_std'] = (data['brand_price_std'] - np.min(data['brand_price_std']) / \n",
    "                       (np.max(data['brand_price_std']) - np.min(data['brand_price_std'])))\n",
    "data['brand_price_sum'] = (data['brand_price_sum'] - np.min(data['brand_price_sum']) / \n",
    "                       (np.max(data['brand_price_sum']) - np.min(data['brand_price_sum'])))\n"
   ]
  },
  {
   "cell_type": "code",
   "execution_count": 26,
   "metadata": {},
   "outputs": [],
   "source": [
    "data = pd.get_dummies(data, columns=['model', 'brand', 'bodyType', 'fuelType',\n",
    "                                    'gearbox', 'notRepairedDamage', 'power_bin'])"
   ]
  },
  {
   "cell_type": "code",
   "execution_count": 27,
   "metadata": {},
   "outputs": [
    {
     "name": "stdout",
     "output_type": "stream",
     "text": [
      "(199037, 370)\n"
     ]
    },
    {
     "data": {
      "text/plain": [
       "Index(['SaleID', 'kilometer', 'name', 'offerType', 'power', 'price', 'seller',\n",
       "       'train', 'v_0', 'v_1',\n",
       "       ...\n",
       "       'power_bin_20.0', 'power_bin_21.0', 'power_bin_22.0', 'power_bin_23.0',\n",
       "       'power_bin_24.0', 'power_bin_25.0', 'power_bin_26.0', 'power_bin_27.0',\n",
       "       'power_bin_28.0', 'power_bin_29.0'],\n",
       "      dtype='object', length=370)"
      ]
     },
     "execution_count": 27,
     "metadata": {},
     "output_type": "execute_result"
    }
   ],
   "source": [
    "print(data.shape)\n",
    "data.columns"
   ]
  },
  {
   "cell_type": "code",
   "execution_count": 28,
   "metadata": {},
   "outputs": [],
   "source": [
    "data.to_csv('data_for_lr_csv', index=0)#给LR用"
   ]
  },
  {
   "cell_type": "code",
   "execution_count": 29,
   "metadata": {},
   "outputs": [
    {
     "name": "stdout",
     "output_type": "stream",
     "text": [
      "0.5728285196051496\n",
      "-0.4082569701616764\n",
      "0.058156610025581514\n",
      "0.3834909576057687\n",
      "0.259066833880992\n",
      "0.38691042393409447\n"
     ]
    }
   ],
   "source": [
    "#特征筛选\n",
    "#1）过滤式\n",
    "\n",
    "print(data['power'].corr(data['price'], method='spearman'))\n",
    "print(data['kilometer'].corr(data['price'], method='spearman'))\n",
    "print(data['brand_amount'].corr(data['price'], method='spearman'))\n",
    "print(data['brand_price_average'].corr(data['price'], method='spearman'))\n",
    "print(data['brand_price_max'].corr(data['price'], method='spearman'))\n",
    "print(data['brand_price_median'].corr(data['price'], method='spearman'))"
   ]
  },
  {
   "cell_type": "code",
   "execution_count": 30,
   "metadata": {},
   "outputs": [
    {
     "data": {
      "text/plain": [
       "<matplotlib.axes._subplots.AxesSubplot at 0x2ae93b82d68>"
      ]
     },
     "execution_count": 30,
     "metadata": {},
     "output_type": "execute_result"
    },
    {
     "data": {
      "image/png": "[encoded data removed]",
      "text/plain": [
       "<Figure size 504x504 with 2 Axes>"
      ]
     },
     "metadata": {
      "needs_background": "light"
     },
     "output_type": "display_data"
    }
   ],
   "source": [
    "data_numeric = data[['power', 'kilometer', 'brand_amount', 'brand_price_average',\n",
    "                    'brand_price_max', 'brand_price_median']]\n",
    "correlation = data_numeric.corr()\n",
    "\n",
    "f, ax = plt.subplots(figsize=(7,7))\n",
    "plt.title('Correlation of Numeric Features with Price', y=1, size=16)\n",
    "sns.heatmap(correlation, square=True, vmax=0.8)"
   ]
  },
  {
   "cell_type": "code",
   "execution_count": 34,
   "metadata": {},
   "outputs": [
    {
     "ename": "AttributeError",
     "evalue": "'NoneType' object has no attribute 'shape'",
     "output_type": "error",
     "traceback": [
      "\u001b[1;31m---------------------------------------------------------------------------\u001b[0m",
      "\u001b[1;31mAttributeError\u001b[0m                            Traceback (most recent call last)",
      "\u001b[1;32m<ipython-input-34-3ddef43cb974>\u001b[0m in \u001b[0;36m<module>\u001b[1;34m\u001b[0m\n\u001b[0;32m     11\u001b[0m \u001b[0mx\u001b[0m \u001b[1;33m=\u001b[0m \u001b[0mx\u001b[0m\u001b[1;33m.\u001b[0m\u001b[0mfillna\u001b[0m\u001b[1;33m(\u001b[0m\u001b[1;36m0\u001b[0m\u001b[1;33m,\u001b[0m \u001b[0minplace\u001b[0m\u001b[1;33m=\u001b[0m\u001b[1;32mTrue\u001b[0m\u001b[1;33m)\u001b[0m\u001b[1;33m\u001b[0m\u001b[0m\n\u001b[0;32m     12\u001b[0m \u001b[0my\u001b[0m \u001b[1;33m=\u001b[0m \u001b[0mdata\u001b[0m\u001b[1;33m[\u001b[0m\u001b[1;34m'price'\u001b[0m\u001b[1;33m]\u001b[0m\u001b[1;33m\u001b[0m\u001b[0m\n\u001b[1;32m---> 13\u001b[1;33m \u001b[0msfs\u001b[0m\u001b[1;33m.\u001b[0m\u001b[0mfit\u001b[0m\u001b[1;33m(\u001b[0m\u001b[0mx\u001b[0m\u001b[1;33m,\u001b[0m \u001b[0my\u001b[0m\u001b[1;33m)\u001b[0m\u001b[1;33m\u001b[0m\u001b[0m\n\u001b[0m\u001b[0;32m     14\u001b[0m \u001b[0msfs\u001b[0m\u001b[1;33m.\u001b[0m\u001b[0mk_feature_names_\u001b[0m\u001b[1;33m\u001b[0m\u001b[0m\n",
      "\u001b[1;32m~\\AppData\\Roaming\\Python\\Python37\\site-packages\\mlxtend\\feature_selection\\sequential_feature_selector.py\u001b[0m in \u001b[0;36mfit\u001b[1;34m(self, X, y, custom_feature_names, groups, **fit_params)\u001b[0m\n\u001b[0;32m    343\u001b[0m \u001b[1;33m\u001b[0m\u001b[0m\n\u001b[0;32m    344\u001b[0m         if (isinstance(self.k_features, int) and (\n\u001b[1;32m--> 345\u001b[1;33m                 self.k_features < 1 or self.k_features > X_.shape[1])):\n\u001b[0m\u001b[0;32m    346\u001b[0m             raise AttributeError('k_features must be a positive integer'\n\u001b[0;32m    347\u001b[0m                                  \u001b[1;34m' between 1 and X.shape[1], got %s'\u001b[0m\u001b[1;33m\u001b[0m\u001b[0m\n",
      "\u001b[1;31mAttributeError\u001b[0m: 'NoneType' object has no attribute 'shape'"
     ]
    }
   ],
   "source": [
    "#包裹式\n",
    "from mlxtend.feature_selection import SequentialFeatureSelector as SFS\n",
    "from sklearn.linear_model import LinearRegression\n",
    "sfs = SFS(LinearRegression(),\n",
    "         k_features=10,\n",
    "         forward=True,\n",
    "         floating=False,\n",
    "         scoring='r2',\n",
    "         cv=0)\n",
    "x = data.drop(['price'], axis=1)\n",
    "x = x.fillna(0, inplace=True)\n",
    "y = data['price']\n",
    "sfs.fit(x, y)\n",
    "sfs.k_feature_names_"
   ]
  },
  {
   "cell_type": "code",
   "execution_count": null,
   "metadata": {},
   "outputs": [],
   "source": []
  }
 ],
 "metadata": {
  "kernelspec": {
   "display_name": "Python 3",
   "language": "python",
   "name": "python3"
  },
  "language_info": {
   "codemirror_mode": {
    "name": "ipython",
    "version": 3
   },
   "file_extension": ".py",
   "mimetype": "text/x-python",
   "name": "python",
   "nbconvert_exporter": "python",
   "pygments_lexer": "ipython3",
   "version": "3.6.5"
  }
 },
 "nbformat": 4,
 "nbformat_minor": 2
}
